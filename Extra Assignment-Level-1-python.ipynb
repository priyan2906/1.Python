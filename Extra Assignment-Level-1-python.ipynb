{
 "cells": [
  {
   "cell_type": "code",
   "execution_count": 1,
   "id": "86f0537a-4d1b-4e08-b278-7f0ff4f921ce",
   "metadata": {},
   "outputs": [
    {
     "name": "stdout",
     "output_type": "stream",
     "text": [
      "HOPE AI\n"
     ]
    }
   ],
   "source": [
    "#Print statement\n",
    "print(\"HOPE AI\")"
   ]
  },
  {
   "cell_type": "code",
   "execution_count": 22,
   "id": "d4fa2b6f-24f7-4e7d-b1a7-a7fb71f1245a",
   "metadata": {},
   "outputs": [
    {
     "name": "stdin",
     "output_type": "stream",
     "text": [
      "Enter your institute name?: HOPE AI\n"
     ]
    },
    {
     "name": "stdout",
     "output_type": "stream",
     "text": [
      "Enter your institute name?: HOPE AI\n"
     ]
    }
   ],
   "source": [
    "#Input\n",
    "institute_name=str(input(\"Enter your institute name?:\"))\n",
    "print(\"Enter your institute name?:\",institute_name)"
   ]
  },
  {
   "cell_type": "code",
   "execution_count": 23,
   "id": "f9d5c558-8f2d-4054-89f6-dd215b3b24f5",
   "metadata": {},
   "outputs": [
    {
     "name": "stdin",
     "output_type": "stream",
     "text": [
      "Enter your name: Priyan\n"
     ]
    },
    {
     "name": "stdout",
     "output_type": "stream",
     "text": [
      "Enter your name: Priyan\n"
     ]
    },
    {
     "name": "stdin",
     "output_type": "stream",
     "text": [
      "Enter your age: 31\n"
     ]
    },
    {
     "name": "stdout",
     "output_type": "stream",
     "text": [
      "Enter your age: 31\n"
     ]
    },
    {
     "name": "stdin",
     "output_type": "stream",
     "text": [
      "Enter your school name: GHSS\n"
     ]
    },
    {
     "name": "stdout",
     "output_type": "stream",
     "text": [
      "Enter your school name: GHSS\n"
     ]
    },
    {
     "name": "stdin",
     "output_type": "stream",
     "text": [
      "Enter your degree: BE.,\n"
     ]
    },
    {
     "name": "stdout",
     "output_type": "stream",
     "text": [
      "Enter your degree: BE.,\n"
     ]
    }
   ],
   "source": [
    "#Inputs\n",
    "name=str(input(\"Enter your name:\"))\n",
    "print(\"Enter your name:\",name)\n",
    "age=int(input(\"Enter your age:\"))\n",
    "print(\"Enter your age:\",age)\n",
    "school=str(input(\"Enter your school name:\"))\n",
    "print(\"Enter your school name:\",school)\n",
    "degree=str(input(\"Enter your degree:\"))\n",
    "print(\"Enter your degree:\",degree)"
   ]
  },
  {
   "cell_type": "code",
   "execution_count": 7,
   "id": "4bbb3457-7094-4b43-9b9f-6220a94858c4",
   "metadata": {},
   "outputs": [
    {
     "name": "stdout",
     "output_type": "stream",
     "text": [
      "a= 43\n",
      "b= 34\n",
      "add= 77\n"
     ]
    }
   ],
   "source": [
    "#Addition\n",
    "a=43\n",
    "b=34\n",
    "add=a+b\n",
    "print(f\"\"\"a= {a}\n",
    "b= {b}\n",
    "add= {add}\"\"\")"
   ]
  },
  {
   "cell_type": "code",
   "execution_count": 9,
   "id": "e73f8ea9-6766-4544-8da6-654d84df988e",
   "metadata": {},
   "outputs": [
    {
     "name": "stdout",
     "output_type": "stream",
     "text": [
      "a= 43\n",
      "b= 34\n",
      "sub= 9\n"
     ]
    }
   ],
   "source": [
    "#Subtraction\n",
    "a=43\n",
    "b=34\n",
    "sub=a-b\n",
    "print(f\"\"\"a= {a}\n",
    "b= {b}\n",
    "sub= {sub}\"\"\")"
   ]
  },
  {
   "cell_type": "code",
   "execution_count": 10,
   "id": "71967630-c8ba-44fe-b30e-668e23bef576",
   "metadata": {},
   "outputs": [
    {
     "name": "stdout",
     "output_type": "stream",
     "text": [
      "a= 63\n",
      "b= 97\n",
      "mul= 6111\n"
     ]
    }
   ],
   "source": [
    "#Multiplication\n",
    "a=63\n",
    "b=97\n",
    "mul=a*b\n",
    "print(f\"\"\"a= {a}\n",
    "b= {b}\n",
    "mul= {mul}\"\"\")"
   ]
  },
  {
   "cell_type": "code",
   "execution_count": 18,
   "id": "1f02d3d3-c02e-43cd-bf0f-8d61f9c7f8f4",
   "metadata": {},
   "outputs": [
    {
     "name": "stdout",
     "output_type": "stream",
     "text": [
      "a= 76\n",
      "b= 31\n",
      "Float Div= 2.4516129032258065\n"
     ]
    }
   ],
   "source": [
    "#Division\n",
    "import math\n",
    "a=76\n",
    "b=31\n",
    "div=a/b\n",
    "print(f\"\"\"a= {a}\n",
    "b= {b}\n",
    "Float Div= {div}\"\"\")"
   ]
  },
  {
   "cell_type": "code",
   "execution_count": 19,
   "id": "669686ba-8697-4d45-87a4-d026dfd4bc59",
   "metadata": {},
   "outputs": [
    {
     "name": "stdout",
     "output_type": "stream",
     "text": [
      "a= 76\n",
      "b= 31\n",
      "Floor Div= 2\n"
     ]
    }
   ],
   "source": [
    "#Floor Division\n",
    "import math\n",
    "a=76\n",
    "b=31\n",
    "div=math.floor(a/b)\n",
    "print(f\"\"\"a= {a}\n",
    "b= {b}\n",
    "Floor Div= {div}\"\"\")"
   ]
  },
  {
   "cell_type": "code",
   "execution_count": 20,
   "id": "9544edcc-3889-4af9-abf7-9e2c778dfd1d",
   "metadata": {},
   "outputs": [
    {
     "name": "stdout",
     "output_type": "stream",
     "text": [
      "a= 76\n",
      "b= 31\n",
      "Modulo= 14\n"
     ]
    }
   ],
   "source": [
    "#Modulo\n",
    "a=76\n",
    "b=31\n",
    "modulo=a%b\n",
    "print(f\"\"\"a= {a}\n",
    "b= {b}\n",
    "Modulo= {modulo}\"\"\")"
   ]
  },
  {
   "cell_type": "code",
   "execution_count": null,
   "id": "f6470704-e9a0-478d-922a-50eae9dd38ca",
   "metadata": {},
   "outputs": [],
   "source": [
    "#Power\n",
    "a=4\n",
    "b=4\n",
    "modulo=a**b\n",
    "print(f\"\"\"a= {a}\n",
    "b= {b}\n",
    "Power= {modulo}\"\"\")"
   ]
  }
 ],
 "metadata": {
  "kernelspec": {
   "display_name": "Python [conda env:base] *",
   "language": "python",
   "name": "conda-base-py"
  },
  "language_info": {
   "codemirror_mode": {
    "name": "ipython",
    "version": 3
   },
   "file_extension": ".py",
   "mimetype": "text/x-python",
   "name": "python",
   "nbconvert_exporter": "python",
   "pygments_lexer": "ipython3",
   "version": "3.13.5"
  }
 },
 "nbformat": 4,
 "nbformat_minor": 5
}

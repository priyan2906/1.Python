{
 "cells": [
  {
   "cell_type": "code",
   "execution_count": 17,
   "id": "507a74c0-411d-4f21-8be3-128bc082d4d8",
   "metadata": {},
   "outputs": [
    {
     "name": "stdin",
     "output_type": "stream",
     "text": [
      "Enter your age: 31\n"
     ]
    },
    {
     "name": "stdout",
     "output_type": "stream",
     "text": [
      "Eligible\n"
     ]
    }
   ],
   "source": [
    "# 1.A system checks if a user is eligible to vote based on their age.\n",
    "age=int(input(\"Enter your age:\"))\n",
    "if age>=18:\n",
    "    print(\"Eligible\")\n",
    "else:\n",
    "    print(\"Not Eligible\")"
   ]
  },
  {
   "cell_type": "code",
   "execution_count": 18,
   "id": "6be764d6-a240-469c-a9a6-cb38255db5b6",
   "metadata": {},
   "outputs": [
    {
     "name": "stdout",
     "output_type": "stream",
     "text": [
      "67\n"
     ]
    }
   ],
   "source": [
    "# 2.A program processes a list of numbers and needs to find the largest value.\n",
    "numbers = [23,54,65,67,43]\n",
    "largest = numbers[0]\n",
    "for num in numbers:\n",
    "    if num  > largest:\n",
    "        largest = num\n",
    "print(largest)"
   ]
  },
  {
   "cell_type": "code",
   "execution_count": 45,
   "id": "1c0287e4-d389-4e46-8b58-39dd21326779",
   "metadata": {},
   "outputs": [
    {
     "name": "stdin",
     "output_type": "stream",
     "text": [
      "Enter your salary: 68000\n"
     ]
    },
    {
     "name": "stdout",
     "output_type": "stream",
     "text": [
      "Bonus amount: 6800.0\n"
     ]
    }
   ],
   "source": [
    "# 3.A company provides employees with a 10% bonus if their salary exceeds $50,000.\n",
    "salary = float(input(\"Enter your salary:\"))\n",
    "\n",
    "if salary> 50000:\n",
    "    bonus = salary * 0.10\n",
    "else:\n",
    "    bonus = 0\n",
    "print(\"Bonus amount:\",bonus)"
   ]
  },
  {
   "cell_type": "code",
   "execution_count": 28,
   "id": "a791f25a-2f17-4c31-96e9-767a84fe050c",
   "metadata": {},
   "outputs": [
    {
     "name": "stdin",
     "output_type": "stream",
     "text": [
      "Enter a number: 2\n"
     ]
    },
    {
     "name": "stdout",
     "output_type": "stream",
     "text": [
      "2 Is Even\n"
     ]
    }
   ],
   "source": [
    "# 4.A program evaluates a number to determine if it is even or odd.\n",
    "number = int(input(\"Enter a number:\"))\n",
    "if ((number%2) == 0):\n",
    "    print(number,\"Is Even\")\n",
    "else:\n",
    "    print(number,\"Is Odd\")"
   ]
  },
  {
   "cell_type": "code",
   "execution_count": 39,
   "id": "2d1d3363-f0c4-4f32-b273-26d92a3126ca",
   "metadata": {},
   "outputs": [
    {
     "name": "stdin",
     "output_type": "stream",
     "text": [
      "Enter a sentence: flower\n"
     ]
    },
    {
     "name": "stdout",
     "output_type": "stream",
     "text": [
      "Reversed text: rewolf\n"
     ]
    }
   ],
   "source": [
    "# 5.A text-processing tool reverses a given word or sentence for formatting purposes.\n",
    "sentence = str(input(\"Enter a sentence:\"))\n",
    "char_list = list(sentence)\n",
    "char_list.reverse()\n",
    "reversed_text = ''.join(char_list)\n",
    "print(\"Reversed text:\",reversed_text)"
   ]
  },
  {
   "cell_type": "code",
   "execution_count": 44,
   "id": "ba851d02-f320-4ff5-bc2e-ceea3aeffba4",
   "metadata": {},
   "outputs": [
    {
     "name": "stdin",
     "output_type": "stream",
     "text": [
      "Enter your score: 90\n"
     ]
    },
    {
     "name": "stdout",
     "output_type": "stream",
     "text": [
      "Result: Passed\n"
     ]
    }
   ],
   "source": [
    "# 6.A grading system determines whether a student has passed or failed based on their score.\n",
    "score = float(input(\"Enter your score:\"))\n",
    "if score >= 40:\n",
    "    print(\"Result: Passed\")\n",
    "else:\n",
    "    print(\"Result: Failed\")"
   ]
  },
  {
   "cell_type": "code",
   "execution_count": 51,
   "id": "24c32a81-730c-4bb4-ae8f-5e1aecb0826c",
   "metadata": {},
   "outputs": [
    {
     "name": "stdin",
     "output_type": "stream",
     "text": [
      "Enter order amount: 200\n"
     ]
    },
    {
     "name": "stdout",
     "output_type": "stream",
     "text": [
      "Order amount:200.0 \n",
      "Discount amount:40.0 \n",
      "Total amount with discount:160.0\n"
     ]
    }
   ],
   "source": [
    "# 7.A retail store offers a 20% discount if a customer’s total order exceeds $100.\n",
    "order_amount=float(input(\"Enter order amount:\"))\n",
    "\n",
    "if order_amount > 100:\n",
    "    discount = order_amount * 0.20\n",
    "else:\n",
    "    discount = 0\n",
    "total_amount = order_amount - discount\n",
    "\n",
    "print(f\"\"\"Order amount:{order_amount} \n",
    "Discount amount:{discount} \n",
    "Total amount with discount:{total_amount}\"\"\")"
   ]
  },
  {
   "cell_type": "code",
   "execution_count": 55,
   "id": "4d340e14-153b-40aa-ac4c-667b6c00cb97",
   "metadata": {},
   "outputs": [
    {
     "name": "stdin",
     "output_type": "stream",
     "text": [
      "Enter your balance: 5000\n",
      "Enter withdraw amount: 2000\n"
     ]
    },
    {
     "name": "stdout",
     "output_type": "stream",
     "text": [
      "Withdrawal successfull\n",
      "Updated balance 3000.0\n"
     ]
    }
   ],
   "source": [
    "# 8.A banking system processes withdrawal requests and ensures the user has enough balance.\n",
    "balance = float(input(\"Enter your balance:\"))\n",
    "withdraw = float(input(\"Enter withdraw amount:\"))\n",
    "\n",
    "if withdraw <= balance:\n",
    "    balance -= withdraw\n",
    "    print(\"Withdrawal successfull\")\n",
    "    print(\"Updated balance\",balance)\n",
    "else:\n",
    "    print(\"Insufficient balance\")"
   ]
  },
  {
   "cell_type": "code",
   "execution_count": 61,
   "id": "9f68ebcd-4da0-429d-bff5-dc4f4b058d02",
   "metadata": {},
   "outputs": [
    {
     "name": "stdin",
     "output_type": "stream",
     "text": [
      "Enter a year: 2024\n"
     ]
    },
    {
     "name": "stdout",
     "output_type": "stream",
     "text": [
      "2024 is leap year\n"
     ]
    }
   ],
   "source": [
    "# 9.A calendar system verifies whether a given year is a leap year based on standard leap year rules.\n",
    "year = int(input(\"Enter a year:\"))\n",
    "\n",
    "if year%400 == 0:\n",
    "    print(year,\"is leap year\")\n",
    "elif year%100 == 0:\n",
    "    print(year,\"is not leap year\")\n",
    "elif year%4 == 0:\n",
    "    print(year,\"is leap year\")\n",
    "else:\n",
    "    print(year,\"is not leap year\")"
   ]
  },
  {
   "cell_type": "code",
   "execution_count": 70,
   "id": "02c1a4de-5a61-4efe-a985-6db694bdc7a8",
   "metadata": {},
   "outputs": [
    {
     "name": "stdout",
     "output_type": "stream",
     "text": [
      "Even numbers: [34, 56, 76, 78]\n"
     ]
    }
   ],
   "source": [
    "# 10.A program filters out only even numbers from a given list.\n",
    "numbers = [34,56,76,78,23,55]\n",
    "even_numbers = []\n",
    "for num in numbers:\n",
    "    if num%2 == 0:\n",
    "       even_numbers.append(num)\n",
    "print(f'''Even numbers: {even_numbers}''')"
   ]
  },
  {
   "cell_type": "code",
   "execution_count": null,
   "id": "e908c0cc-8f2b-4c27-9fc0-266b03db58f9",
   "metadata": {},
   "outputs": [],
   "source": []
  },
  {
   "cell_type": "code",
   "execution_count": null,
   "id": "eaa025a0-e25d-4ba9-a0df-762a339df214",
   "metadata": {},
   "outputs": [],
   "source": []
  }
 ],
 "metadata": {
  "kernelspec": {
   "display_name": "Python [conda env:base] *",
   "language": "python",
   "name": "conda-base-py"
  },
  "language_info": {
   "codemirror_mode": {
    "name": "ipython",
    "version": 3
   },
   "file_extension": ".py",
   "mimetype": "text/x-python",
   "name": "python",
   "nbconvert_exporter": "python",
   "pygments_lexer": "ipython3",
   "version": "3.13.5"
  }
 },
 "nbformat": 4,
 "nbformat_minor": 5
}

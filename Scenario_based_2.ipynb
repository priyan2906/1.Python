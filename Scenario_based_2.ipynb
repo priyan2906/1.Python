{
 "cells": [
  {
   "cell_type": "code",
   "execution_count": 2,
   "id": "ebe48c41-e655-44dc-8237-723aef42aa98",
   "metadata": {},
   "outputs": [
    {
     "name": "stdin",
     "output_type": "stream",
     "text": [
      "Enter transaction amount 50000\n"
     ]
    },
    {
     "name": "stdout",
     "output_type": "stream",
     "text": [
      "Positive\n"
     ]
    }
   ],
   "source": [
    "transaction_amount = int(input(\"Enter transaction amount\"))\n",
    "\n",
    "if transaction_amount>0:\n",
    "    print(\"Positive\")\n",
    "elif transaction_amount<0:\n",
    "    print(\"Negative\")\n",
    "elif transaction_amount==0:\n",
    "    print(\"Zero\")"
   ]
  },
  {
   "cell_type": "code",
   "execution_count": 6,
   "id": "69b9644e-0a2f-4c84-93a9-cbed809aefec",
   "metadata": {},
   "outputs": [
    {
     "name": "stdin",
     "output_type": "stream",
     "text": [
      "Enter your password:  456\n"
     ]
    },
    {
     "name": "stdout",
     "output_type": "stream",
     "text": [
      "Sum of digits: 15\n"
     ]
    }
   ],
   "source": [
    "password = input(\"Enter your password: \")  # Take input as string\n",
    "\n",
    "sum_of_digits = 0\n",
    "\n",
    "for digit in password:\n",
    "    if digit.isdigit():  # Check if each character is a digit\n",
    "        sum_of_digits += int(digit)\n",
    "\n",
    "print(\"Sum of digits:\", sum_of_digits)"
   ]
  },
  {
   "cell_type": "code",
   "execution_count": 7,
   "id": "604db889-4e85-46cc-b6dd-28489fb79e81",
   "metadata": {},
   "outputs": [
    {
     "name": "stdin",
     "output_type": "stream",
     "text": [
      "Enter a transaction_id: 84476465\n"
     ]
    },
    {
     "name": "stdout",
     "output_type": "stream",
     "text": [
      "Reversed number: 56467448\n"
     ]
    }
   ],
   "source": [
    "transaction_id = int(input(\"Enter a transaction_id:\"))\n",
    "\n",
    "num_str = str(transaction_id)\n",
    "\n",
    "reversed_str = num_str[::-1]\n",
    "\n",
    "num_int = int(reversed_str)\n",
    "\n",
    "print(\"Reversed number:\",num_int)"
   ]
  },
  {
   "cell_type": "code",
   "execution_count": 10,
   "id": "8890afbd-5a76-40b4-99ec-7ca8c147941d",
   "metadata": {},
   "outputs": [
    {
     "name": "stdin",
     "output_type": "stream",
     "text": [
      "Enter a number: 7\n"
     ]
    },
    {
     "name": "stdout",
     "output_type": "stream",
     "text": [
      "Prime\n"
     ]
    }
   ],
   "source": [
    "num = int(input(\"Enter a number:\"))\n",
    "\n",
    "if num <2:\n",
    "    print(\"Not Prime\")\n",
    "else:\n",
    "    for i in range(2, int(num ** 0.5)+1):\n",
    "        if num%i == 0:\n",
    "            print(\"Not Prime\")\n",
    "            break\n",
    "        else:\n",
    "            print(\"Prime\")"
   ]
  },
  {
   "cell_type": "code",
   "execution_count": 4,
   "id": "ed64f771-f416-42fd-833c-71bef36d1d77",
   "metadata": {},
   "outputs": [
    {
     "name": "stdin",
     "output_type": "stream",
     "text": [
      "Enter a number: 5\n"
     ]
    },
    {
     "name": "stdout",
     "output_type": "stream",
     "text": [
      "Factorial of 5 is 120\n"
     ]
    }
   ],
   "source": [
    "def factorial(n):\n",
    "    if  n == 0 or n == 1:\n",
    "        return 1\n",
    "    else:\n",
    "        return n*factorial(n-1)\n",
    "\n",
    "num = int(input(\"Enter a number:\"))\n",
    "result = factorial(num)\n",
    "print(\"Factorial of\",num,\"is\",result)"
   ]
  },
  {
   "cell_type": "code",
   "execution_count": 13,
   "id": "a70e2bf6-4be5-4c3d-b37b-3b6a9dd26d46",
   "metadata": {},
   "outputs": [
    {
     "name": "stdin",
     "output_type": "stream",
     "text": [
      "Enter a number:  153\n"
     ]
    },
    {
     "name": "stdout",
     "output_type": "stream",
     "text": [
      "Armstrong Number\n"
     ]
    }
   ],
   "source": [
    "num = int(input(\"Enter a number: \"))\n",
    "\n",
    "original = num\n",
    "\n",
    "num_digits = len(str(num))\n",
    "\n",
    "sum_of_powers = 0\n",
    "\n",
    "while num > 0:\n",
    "    digit = num % 10\n",
    "    sum_of_powers += digit ** num_digits\n",
    "    num //= 10\n",
    "\n",
    "if sum_of_powers == original:\n",
    "    print(\"Armstrong Number\")\n",
    "else:\n",
    "    print(\"Not an Armstrong Number\")\n"
   ]
  },
  {
   "cell_type": "code",
   "execution_count": 17,
   "id": "f21be045-1cf9-4f9a-863f-d4697d9db42a",
   "metadata": {},
   "outputs": [
    {
     "name": "stdin",
     "output_type": "stream",
     "text": [
      "Enter a string:  Hello\n"
     ]
    },
    {
     "name": "stdout",
     "output_type": "stream",
     "text": [
      "Modified string: oellH\n"
     ]
    }
   ],
   "source": [
    "text = input(\"Enter a string: \")\n",
    "\n",
    "if len(text) < 2:\n",
    "    print(text)\n",
    "else:\n",
    "    swapped = text[-1] + text[1:-1] + text[0]\n",
    "\n",
    "    print(\"Modified string:\", swapped)\n"
   ]
  },
  {
   "cell_type": "code",
   "execution_count": 7,
   "id": "a6fc9cb9-4328-4f83-9c95-e0cf8db74711",
   "metadata": {},
   "outputs": [
    {
     "name": "stdin",
     "output_type": "stream",
     "text": [
      "Enter a decimal number:  10\n"
     ]
    },
    {
     "name": "stdout",
     "output_type": "stream",
     "text": [
      "Binary representation: 1010\n"
     ]
    }
   ],
   "source": [
    "num = int(input(\"Enter a decimal number: \"))\n",
    "\n",
    "binary = \"\"\n",
    "\n",
    "while num > 0:\n",
    "    remainder = num % 2\n",
    "    binary += str(remainder)\n",
    "    num = num // 2\n",
    "\n",
    "binary = binary[::-1]\n",
    "\n",
    "print(\"Binary representation:\", binary)"
   ]
  },
  {
   "cell_type": "code",
   "execution_count": 1,
   "id": "168baf29-cadd-444b-a92e-0984c6fb6154",
   "metadata": {},
   "outputs": [
    {
     "name": "stdin",
     "output_type": "stream",
     "text": [
      "Enter a sentence:  I love AI\n"
     ]
    },
    {
     "name": "stdout",
     "output_type": "stream",
     "text": [
      "The longest word is: love\n"
     ]
    }
   ],
   "source": [
    "sentence = str(input(\"Enter a sentence: \"))\n",
    "\n",
    "words = sentence.split()\n",
    "\n",
    "longest = \"\"\n",
    "\n",
    "for word in words:\n",
    "    if len(word) > len(longest):\n",
    "        longest = word\n",
    "\n",
    "print(\"The longest word is:\", longest)"
   ]
  },
  {
   "cell_type": "code",
   "execution_count": 21,
   "id": "180d9eca-e663-4220-9d3a-614a96121fa5",
   "metadata": {},
   "outputs": [
    {
     "name": "stdin",
     "output_type": "stream",
     "text": [
      "Enter first string:  silent\n",
      "Enter second string:  listen\n"
     ]
    },
    {
     "name": "stdout",
     "output_type": "stream",
     "text": [
      "Anagram\n"
     ]
    }
   ],
   "source": [
    "str1 = input(\"Enter first string: \")\n",
    "str2 = input(\"Enter second string: \")\n",
    "\n",
    "str1 = str1.replace(\" \", \"\").lower()\n",
    "str2 = str2.replace(\" \", \"\").lower()\n",
    "\n",
    "if sorted(str1) == sorted(str2):\n",
    "    print(\"Anagram\")\n",
    "else:\n",
    "    print(\"Not an Anagram\")"
   ]
  },
  {
   "cell_type": "code",
   "execution_count": null,
   "id": "53bcaae6-abf2-4c8b-a2af-9fd3eab68292",
   "metadata": {},
   "outputs": [],
   "source": []
  }
 ],
 "metadata": {
  "kernelspec": {
   "display_name": "Python [conda env:base] *",
   "language": "python",
   "name": "conda-base-py"
  },
  "language_info": {
   "codemirror_mode": {
    "name": "ipython",
    "version": 3
   },
   "file_extension": ".py",
   "mimetype": "text/x-python",
   "name": "python",
   "nbconvert_exporter": "python",
   "pygments_lexer": "ipython3",
   "version": "3.13.5"
  }
 },
 "nbformat": 4,
 "nbformat_minor": 5
}

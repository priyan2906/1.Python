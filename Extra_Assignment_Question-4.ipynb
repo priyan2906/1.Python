{
 "cells": [
  {
   "cell_type": "code",
   "execution_count": 23,
   "id": "622404fa-b3b1-4b09-80ce-a5612375703d",
   "metadata": {},
   "outputs": [
    {
     "name": "stdout",
     "output_type": "stream",
     "text": [
      "Sub-fields in AI are:\n",
      "Machine Learning\n",
      "Neural Networks\n",
      "Vision\n",
      "Robotics\n",
      "Speech Processing\n",
      "Natural Language Processing\n"
     ]
    }
   ],
   "source": [
    "class SubfieldsInAI:\n",
    "    def Subfields():\n",
    "        subfields = [\n",
    "            \"Machine Learning\",\n",
    "            \"Neural Networks\",\n",
    "            \"Vision\",\n",
    "            \"Robotics\",\n",
    "            \"Speech Processing\",\n",
    "            \"Natural Language Processing\"\n",
    "        ]\n",
    "        print(\"Sub-fields in AI are:\")\n",
    "        for field in subfields:\n",
    "            print(field)\n",
    "\n",
    "SubfieldsInAI.Subfields()"
   ]
  },
  {
   "cell_type": "code",
   "execution_count": 3,
   "id": "4052b51a-18bf-4814-8a46-47ae28a0a819",
   "metadata": {},
   "outputs": [],
   "source": [
    "class OddEven:\n",
    "    def oddEven():\n",
    "        num=int(input(\"Enter a number:\"))\n",
    "        print(\"Enter a number:\",num)\n",
    "        if((num%2)==0):\n",
    "            print(num,\"is Even number\")\n",
    "        else:\n",
    "            print(num,\"is Odd number\")"
   ]
  },
  {
   "cell_type": "code",
   "execution_count": 4,
   "id": "af1412e3-9482-4e81-a7f7-1405b1d61d92",
   "metadata": {},
   "outputs": [
    {
     "name": "stdin",
     "output_type": "stream",
     "text": [
      "Enter a number: 52452\n"
     ]
    },
    {
     "name": "stdout",
     "output_type": "stream",
     "text": [
      "Enter a number: 52452\n",
      "52452 is Even number\n"
     ]
    }
   ],
   "source": [
    "OddEven.oddEven()"
   ]
  },
  {
   "cell_type": "code",
   "execution_count": 5,
   "id": "868f044d-9143-4860-90ed-553766c2ec17",
   "metadata": {},
   "outputs": [
    {
     "name": "stdin",
     "output_type": "stream",
     "text": [
      "Your Gender:  Male\n"
     ]
    },
    {
     "name": "stdout",
     "output_type": "stream",
     "text": [
      "Your Gender: Male\n"
     ]
    },
    {
     "name": "stdin",
     "output_type": "stream",
     "text": [
      "Your Age:  20\n"
     ]
    },
    {
     "name": "stdout",
     "output_type": "stream",
     "text": [
      "Your Age: 20\n",
      "NOT ELIGIBLE\n"
     ]
    }
   ],
   "source": [
    "class EligibilityForMarriage:\n",
    "    def Eligible():\n",
    "        gender = input(\"Your Gender: \")\n",
    "        print(\"Your Gender:\",gender)\n",
    "        age = int(input(\"Your Age: \"))\n",
    "        print(\"Your Age:\",age)\n",
    "        if gender.lower() == \"male\" and age >= 21:\n",
    "            print(\"ELIGIBLE\")\n",
    "        elif gender.lower() == \"female\" and age >= 18:\n",
    "            print(\"ELIGIBLE\")\n",
    "        else:\n",
    "            print(\"NOT ELIGIBLE\")\n",
    "EligibilityForMarriage.Eligible()"
   ]
  },
  {
   "cell_type": "code",
   "execution_count": 6,
   "id": "3b73c969-354d-4e5f-89a0-d366d73afc27",
   "metadata": {},
   "outputs": [
    {
     "name": "stdin",
     "output_type": "stream",
     "text": [
      "Subject1 =  98\n"
     ]
    },
    {
     "name": "stdout",
     "output_type": "stream",
     "text": [
      "Subject1 =  98\n"
     ]
    },
    {
     "name": "stdin",
     "output_type": "stream",
     "text": [
      "Subject2 =  87\n"
     ]
    },
    {
     "name": "stdout",
     "output_type": "stream",
     "text": [
      "Subject2 =  87\n"
     ]
    },
    {
     "name": "stdin",
     "output_type": "stream",
     "text": [
      "Subject3 =  95\n"
     ]
    },
    {
     "name": "stdout",
     "output_type": "stream",
     "text": [
      "Subject3 =  95\n"
     ]
    },
    {
     "name": "stdin",
     "output_type": "stream",
     "text": [
      "Subject4 =  95\n"
     ]
    },
    {
     "name": "stdout",
     "output_type": "stream",
     "text": [
      "Subject4 =  95\n"
     ]
    },
    {
     "name": "stdin",
     "output_type": "stream",
     "text": [
      "Subject5 =  93\n"
     ]
    },
    {
     "name": "stdout",
     "output_type": "stream",
     "text": [
      "Subject5 =  93\n",
      "Total = 468\n",
      "Percentage = 93.60000000000001\n"
     ]
    }
   ],
   "source": [
    "class FindPercent:\n",
    "    def percentage():\n",
    "        s1 = int(input(\"Subject1 = \"))\n",
    "        print(\"Subject1 = \",s1)\n",
    "        s2 = int(input(\"Subject2 = \"))\n",
    "        print(\"Subject2 = \",s2)\n",
    "        s3 = int(input(\"Subject3 = \"))\n",
    "        print(\"Subject3 = \",s3)\n",
    "        s4 = int(input(\"Subject4 = \"))\n",
    "        print(\"Subject4 = \",s4)\n",
    "        s5 = int(input(\"Subject5 = \"))\n",
    "        print(\"Subject5 = \",s5)\n",
    "\n",
    "        total = s1 + s2 + s3 + s4 + s5\n",
    "        print(\"Total =\", total)\n",
    "\n",
    "        percent = (total / 500) * 100\n",
    "        print(\"Percentage =\", percent)\n",
    "FindPercent.percentage()"
   ]
  },
  {
   "cell_type": "code",
   "execution_count": 8,
   "id": "12ce7cb8-565d-4843-8128-f93d4521c316",
   "metadata": {},
   "outputs": [
    {
     "name": "stdin",
     "output_type": "stream",
     "text": [
      "Height: 32\n"
     ]
    },
    {
     "name": "stdout",
     "output_type": "stream",
     "text": [
      "Height: 32\n"
     ]
    },
    {
     "name": "stdin",
     "output_type": "stream",
     "text": [
      "Breadth: 34\n"
     ]
    },
    {
     "name": "stdout",
     "output_type": "stream",
     "text": [
      "Breadth: 34\n",
      "Area formula: (Height * Breadth)/2\n",
      "Area of Triangle: 544.0\n"
     ]
    },
    {
     "name": "stdin",
     "output_type": "stream",
     "text": [
      "Height1: 2\n"
     ]
    },
    {
     "name": "stdout",
     "output_type": "stream",
     "text": [
      "Height1: 2\n"
     ]
    },
    {
     "name": "stdin",
     "output_type": "stream",
     "text": [
      "Height2: 4\n"
     ]
    },
    {
     "name": "stdout",
     "output_type": "stream",
     "text": [
      "Height2: 4\n"
     ]
    },
    {
     "name": "stdin",
     "output_type": "stream",
     "text": [
      "Breadth: 4\n"
     ]
    },
    {
     "name": "stdout",
     "output_type": "stream",
     "text": [
      "Breadth: 4\n",
      "Perimeter formula: Height1 + Height2 + Breadth\n",
      "Perimeter of Triangle: 10\n"
     ]
    }
   ],
   "source": [
    "class Triangle:\n",
    "    def triangle():\n",
    "        height = int(input(\"Height:\"))\n",
    "        print(\"Height:\",height)\n",
    "        breadth = int(input(\"Breadth:\"))\n",
    "        print(\"Breadth:\",breadth)\n",
    "\n",
    "        print(\"Area formula: (Height * Breadth)/2\")\n",
    "        area = (height * breadth) / 2\n",
    "        print(\"Area of Triangle:\", area)\n",
    "\n",
    "        height1 = int(input(\"Height1:\"))\n",
    "        print(\"Height1:\",height1)\n",
    "        height2 = int(input(\"Height2:\"))\n",
    "        print(\"Height2:\",height2)\n",
    "        breadth = int(input(\"Breadth:\"))\n",
    "        print(\"Breadth:\",breadth)\n",
    "\n",
    "        print(\"Perimeter formula: Height1 + Height2 + Breadth\")\n",
    "        perimeter = height1 + height2 + breadth\n",
    "        print(\"Perimeter of Triangle:\", perimeter)\n",
    "Triangle.triangle()"
   ]
  },
  {
   "cell_type": "code",
   "execution_count": null,
   "id": "c67909ac-5558-4912-b2bd-08d45ef69930",
   "metadata": {},
   "outputs": [],
   "source": []
  }
 ],
 "metadata": {
  "kernelspec": {
   "display_name": "Python [conda env:base] *",
   "language": "python",
   "name": "conda-base-py"
  },
  "language_info": {
   "codemirror_mode": {
    "name": "ipython",
    "version": 3
   },
   "file_extension": ".py",
   "mimetype": "text/x-python",
   "name": "python",
   "nbconvert_exporter": "python",
   "pygments_lexer": "ipython3",
   "version": "3.13.5"
  }
 },
 "nbformat": 4,
 "nbformat_minor": 5
}

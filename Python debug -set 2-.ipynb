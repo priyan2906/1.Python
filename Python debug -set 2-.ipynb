{
 "cells": [
  {
   "cell_type": "code",
   "execution_count": null,
   "id": "90e9fa4e",
   "metadata": {},
   "outputs": [],
   "source": [
    "#1.Find the error in the following Python code:\n",
    "import math\n",
    "print(Math.sqrt(16))\n"
   ]
  },
  {
   "cell_type": "code",
   "execution_count": 1,
   "id": "0337d34b-fad0-4021-8215-df9051b5457b",
   "metadata": {},
   "outputs": [
    {
     "name": "stdout",
     "output_type": "stream",
     "text": [
      "4.0\n"
     ]
    }
   ],
   "source": [
    "import math\n",
    "print(math.sqrt(16))"
   ]
  },
  {
   "cell_type": "code",
   "execution_count": null,
   "id": "823f0107-8a99-4bdd-b3df-d43751670398",
   "metadata": {},
   "outputs": [],
   "source": [
    "#2.Find the error in the following Python code:\n",
    "def my_function():\n",
    "    x += 5\n",
    "    print(x)\n",
    "\n",
    "x = 10\n",
    "my_function()"
   ]
  },
  {
   "cell_type": "code",
   "execution_count": 5,
   "id": "55520fd2",
   "metadata": {},
   "outputs": [
    {
     "name": "stdout",
     "output_type": "stream",
     "text": [
      "15\n"
     ]
    }
   ],
   "source": [
    "def my_function():\n",
    "    x = 10\n",
    "    x += 5\n",
    "    print(x)\n",
    "my_function()\n"
   ]
  },
  {
   "cell_type": "code",
   "execution_count": null,
   "id": "f23899ca",
   "metadata": {},
   "outputs": [],
   "source": [
    "#3.x = 5\n",
    "if x = 10:\n",
    "    print(\"x is 10\")\n"
   ]
  },
  {
   "cell_type": "code",
   "execution_count": 7,
   "id": "78d3db74-c54e-4a8c-a97c-8150a81cb661",
   "metadata": {},
   "outputs": [
    {
     "name": "stdout",
     "output_type": "stream",
     "text": [
      "x is 10\n"
     ]
    }
   ],
   "source": [
    "if x == 10:\n",
    "    print(\"x is 10\")"
   ]
  },
  {
   "cell_type": "code",
   "execution_count": 31,
   "id": "c644c2f2",
   "metadata": {},
   "outputs": [
    {
     "name": "stdout",
     "output_type": "stream",
     "text": [
      "[2, 3, 5, 8]\n"
     ]
    }
   ],
   "source": [
    "#4.\n",
    "numbers = [5, 3, 8, 2]\n",
    "numbers.sort()\n",
    "print(numbers)\n"
   ]
  },
  {
   "cell_type": "code",
   "execution_count": 10,
   "id": "a3c7f3f1-6918-438d-8c88-5c26c2229102",
   "metadata": {},
   "outputs": [
    {
     "name": "stdout",
     "output_type": "stream",
     "text": [
      "None\n"
     ]
    }
   ],
   "source": [
    "numbers = [5, 3, 8, 2]\n",
    "print(numbers.sort())"
   ]
  },
  {
   "cell_type": "code",
   "execution_count": null,
   "id": "c6bc9bfb",
   "metadata": {},
   "outputs": [],
   "source": [
    "#5.\n",
    "def square(n):\n",
    "    n * n\n",
    "\n",
    "print(square(4))\n"
   ]
  },
  {
   "cell_type": "code",
   "execution_count": 32,
   "id": "aa96dfbe-5e5d-4f7e-b885-6b3e0ddd524a",
   "metadata": {},
   "outputs": [
    {
     "name": "stdout",
     "output_type": "stream",
     "text": [
      "16\n"
     ]
    }
   ],
   "source": [
    "def square(n):\n",
    "    return n * n\n",
    "print(square(4))"
   ]
  },
  {
   "cell_type": "code",
   "execution_count": null,
   "id": "3a9dbcc0",
   "metadata": {},
   "outputs": [],
   "source": [
    "#6.\n",
    "my_tuple = (1, 2, 3)\n",
    "my_tuple[1] = 5\n"
   ]
  },
  {
   "cell_type": "code",
   "execution_count": 33,
   "id": "6944305f-c92d-4764-abc7-c3bb05cc08ee",
   "metadata": {},
   "outputs": [
    {
     "name": "stdout",
     "output_type": "stream",
     "text": [
      "(1, 5, 3)\n"
     ]
    }
   ],
   "source": [
    "my_tuple = (1, 2, 3)\n",
    "my_tuple = (1, 5, 3)\n",
    "print(my_tuple)"
   ]
  },
  {
   "cell_type": "code",
   "execution_count": null,
   "id": "4a72685b",
   "metadata": {},
   "outputs": [],
   "source": [
    "#7.\n",
    "name = \"Alice\"\n",
    "age = 25\n",
    "print(\"My name is %s and I am %d years old\" % (name))\n"
   ]
  },
  {
   "cell_type": "code",
   "execution_count": 34,
   "id": "6b77bc90-b82d-4d6c-8a14-9800191631b4",
   "metadata": {},
   "outputs": [
    {
     "name": "stdout",
     "output_type": "stream",
     "text": [
      "My name is Alice and I am 25 years old\n"
     ]
    }
   ],
   "source": [
    "name = \"Alice\"\n",
    "age = 25\n",
    "print(\"My name is %s and I am %d years old\" % (name,age))"
   ]
  },
  {
   "cell_type": "code",
   "execution_count": 20,
   "id": "7a464521-0100-4698-9323-a2b6e563c23d",
   "metadata": {},
   "outputs": [],
   "source": [
    "a = [1, 2, 3]\n",
    "b = [1, 2, 3]\n",
    "if a is b:\n",
    "    print(\"Lists are equal\")"
   ]
  },
  {
   "cell_type": "code",
   "execution_count": 21,
   "id": "3de969fe",
   "metadata": {},
   "outputs": [
    {
     "name": "stdout",
     "output_type": "stream",
     "text": [
      "Lists are equal\n"
     ]
    }
   ],
   "source": [
    "#8.\n",
    "a = [1, 2, 3]\n",
    "b = [1, 2, 3]\n",
    "if a == b:\n",
    "    print(\"Lists are equal\")\n"
   ]
  },
  {
   "cell_type": "code",
   "execution_count": null,
   "id": "dbe38465",
   "metadata": {},
   "outputs": [],
   "source": [
    "#9.\n",
    "for i in range(5, 1):\n",
    "    print(i)\n"
   ]
  },
  {
   "cell_type": "code",
   "execution_count": 35,
   "id": "8ce6d9e5-deb5-4ed3-a4d7-1b3dfeeaed69",
   "metadata": {},
   "outputs": [
    {
     "name": "stdout",
     "output_type": "stream",
     "text": [
      "5\n",
      "4\n",
      "3\n",
      "2\n"
     ]
    }
   ],
   "source": [
    "for i in range(5, 1, -1):\n",
    "    print(i)"
   ]
  },
  {
   "cell_type": "code",
   "execution_count": null,
   "id": "30cb0523",
   "metadata": {},
   "outputs": [],
   "source": [
    "#10.\n",
    "student = {\"name\": \"John\", \"age\": 20}\n",
    "print(student[name])\n"
   ]
  },
  {
   "cell_type": "code",
   "execution_count": 36,
   "id": "39505b9b-1cf9-4a92-8e47-0be9051703d4",
   "metadata": {},
   "outputs": [
    {
     "name": "stdout",
     "output_type": "stream",
     "text": [
      "John\n"
     ]
    }
   ],
   "source": [
    "student = {\"name\": \"John\", \"age\": 20}\n",
    "print(student[\"name\"])"
   ]
  },
  {
   "cell_type": "code",
   "execution_count": null,
   "id": "ad6c8128-4c6a-46d1-b80d-6bf1db0fcec4",
   "metadata": {},
   "outputs": [],
   "source": []
  }
 ],
 "metadata": {
  "kernelspec": {
   "display_name": "Python [conda env:base] *",
   "language": "python",
   "name": "conda-base-py"
  },
  "language_info": {
   "codemirror_mode": {
    "name": "ipython",
    "version": 3
   },
   "file_extension": ".py",
   "mimetype": "text/x-python",
   "name": "python",
   "nbconvert_exporter": "python",
   "pygments_lexer": "ipython3",
   "version": "3.13.5"
  }
 },
 "nbformat": 4,
 "nbformat_minor": 5
}
